{
 "cells": [
  {
   "cell_type": "code",
   "execution_count": 8,
   "id": "900ca22c-e836-4b61-9512-3dc2de5d5b04",
   "metadata": {},
   "outputs": [],
   "source": [
    "import matplotlib.pyplot as plt\n",
    "from nltk.probability import FreqDist\n",
    "import spacy\n",
    "\n",
    "from custom_functions import batch_preprocess_texts"
   ]
  },
  {
   "cell_type": "code",
   "execution_count": 9,
   "id": "8ef752c7-3304-45dc-9ed5-ef87474c684b",
   "metadata": {},
   "outputs": [
    {
     "name": "stdout",
     "output_type": "stream",
     "text": [
      "There are 846555 characters in the full text.\n",
      "\n",
      "\n",
      "\n",
      "\n",
      "\n",
      "                                DRACULA\n",
      "\n",
      "                                  _by_\n",
      "\n",
      "                              Bram Stoker\n",
      "\n",
      "                        [Illustration: colophon]\n",
      "\n",
      "                                NEW YORK\n",
      "\n",
      "                            GROSSET & DUNLAP\n",
      "\n",
      "                              _Publishers_\n",
      "\n",
      "      Copyright, 1897, in the United States of America, according\n",
      "                   to Act of Congress, by Bram Stoker\n",
      "\n",
      "                        [_All rights reserved._]\n",
      "\n",
      "                      PRINTED IN THE UNITED STATES\n",
      "                                   AT\n",
      "               THE COUNTRY LIFE PRESS, GARDEN CITY, N.Y.\n",
      "\n",
      "\n",
      "\n",
      "\n",
      "                                   TO\n",
      "\n",
      "                             MY DEAR FRIEND\n",
      "\n",
      "                               HOMMY-BEG\n",
      "\n",
      "\n",
      "\n",
      "\n",
      "Contents\n",
      "\n",
      "CHAPTER I. Jonathan Harker’s Journal\n",
      "CHAPTER II. Jonathan Harker’s Journal\n",
      "CHAPTER III. Jonathan Harker’s Journal\n",
      "CHAPTER IV. Jonathan Harker’s Journal\n",
      "CHAPTER V. Letters—Lucy and Mina\n",
      "CHAPTER VI. Mina Murray’s Journal\n",
      "CHAPTER VII\n"
     ]
    }
   ],
   "source": [
    "# loading the file in\n",
    "fpath= \"data/dracula.txt\"\n",
    "# avoiding Windows syntax error\n",
    "with open(fpath, encoding = \"utf-8\") as f:\n",
    "    txt = f.read()\n",
    "# checking text\n",
    "print(f\"There are {len(txt)} characters in the full text.\\n\")\n",
    "print(txt[:1000])"
   ]
  },
  {
   "cell_type": "code",
   "execution_count": 10,
   "id": "ba4a132c-0a43-4ac4-84ea-90b5e703b6b5",
   "metadata": {},
   "outputs": [
    {
     "ename": "NameError",
     "evalue": "name 'spacy' is not defined",
     "output_type": "error",
     "traceback": [
      "\u001b[1;31m---------------------------------------------------------------------------\u001b[0m",
      "\u001b[1;31mNameError\u001b[0m                                 Traceback (most recent call last)",
      "Cell \u001b[1;32mIn[10], line 2\u001b[0m\n\u001b[0;32m      1\u001b[0m \u001b[38;5;66;03m# creating tokens\u001b[39;00m\n\u001b[1;32m----> 2\u001b[0m tokens \u001b[38;5;241m=\u001b[39m \u001b[43mbatch_preprocess_texts\u001b[49m\u001b[43m(\u001b[49m\u001b[43m[\u001b[49m\u001b[43mtxt\u001b[49m\u001b[43m]\u001b[49m\u001b[43m,\u001b[49m\u001b[43m \u001b[49m\u001b[43mbatch_size\u001b[49m\u001b[43m \u001b[49m\u001b[38;5;241;43m=\u001b[39;49m\u001b[43m \u001b[49m\u001b[38;5;241;43m1000\u001b[39;49m\u001b[43m)\u001b[49m\n\u001b[0;32m      3\u001b[0m tokens \u001b[38;5;241m=\u001b[39m tokens[\u001b[38;5;241m0\u001b[39m]\n\u001b[0;32m      4\u001b[0m tokens[:\u001b[38;5;241m20\u001b[39m]\n",
      "File \u001b[1;32m~\\OneDrive\\Documents\\GitHub\\Advanced-Machine-Learning\\custom_functions.py:30\u001b[0m, in \u001b[0;36mbatch_preprocess_texts\u001b[1;34m(texts, nlp, remove_stopwords, remove_punct, use_lemmas, disable, batch_size, n_process)\u001b[0m\n\u001b[0;32m     27\u001b[0m \u001b[38;5;28;01mfrom\u001b[39;00m \u001b[38;5;21;01mtqdm\u001b[39;00m \u001b[38;5;28;01mimport\u001b[39;00m tqdm\n\u001b[0;32m     29\u001b[0m \u001b[38;5;28;01mif\u001b[39;00m nlp \u001b[38;5;129;01mis\u001b[39;00m \u001b[38;5;28;01mNone\u001b[39;00m:\n\u001b[1;32m---> 30\u001b[0m \tnlp \u001b[38;5;241m=\u001b[39m \u001b[43mspacy\u001b[49m\u001b[38;5;241m.\u001b[39mload(\u001b[38;5;124m\"\u001b[39m\u001b[38;5;124men_core_web_sm\u001b[39m\u001b[38;5;124m\"\u001b[39m)\n\u001b[0;32m     32\u001b[0m processed_texts \u001b[38;5;241m=\u001b[39m []\n\u001b[0;32m     34\u001b[0m \u001b[38;5;28;01mfor\u001b[39;00m doc \u001b[38;5;129;01min\u001b[39;00m tqdm(nlp\u001b[38;5;241m.\u001b[39mpipe(texts, disable\u001b[38;5;241m=\u001b[39mdisable, batch_size\u001b[38;5;241m=\u001b[39mbatch_size, n_process\u001b[38;5;241m=\u001b[39mn_process)):\n",
      "\u001b[1;31mNameError\u001b[0m: name 'spacy' is not defined"
     ]
    }
   ],
   "source": [
    "# creating tokens\n",
    "tokens = batch_preprocess_texts([txt], batch_size = 1000)\n",
    "tokens = tokens[0]\n",
    "tokens[:20]"
   ]
  },
  {
   "cell_type": "code",
   "execution_count": null,
   "id": "875bb78c-e43a-4407-baff-ce71f2f845a9",
   "metadata": {},
   "outputs": [],
   "source": []
  }
 ],
 "metadata": {
  "kernelspec": {
   "display_name": "Python (dojo-env)",
   "language": "python",
   "name": "dojo-env"
  },
  "language_info": {
   "codemirror_mode": {
    "name": "ipython",
    "version": 3
   },
   "file_extension": ".py",
   "mimetype": "text/x-python",
   "name": "python",
   "nbconvert_exporter": "python",
   "pygments_lexer": "ipython3",
   "version": "3.10.11"
  },
  "widgets": {
   "application/vnd.jupyter.widget-state+json": {
    "state": {},
    "version_major": 2,
    "version_minor": 0
   }
  }
 },
 "nbformat": 4,
 "nbformat_minor": 5
}
